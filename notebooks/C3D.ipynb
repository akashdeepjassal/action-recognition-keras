{
 "cells": [
  {
   "cell_type": "code",
   "execution_count": 1,
   "metadata": {},
   "outputs": [],
   "source": [
    "import numpy as np\n",
    "import os\n"
   ]
  },
  {
   "cell_type": "code",
   "execution_count": 2,
   "metadata": {},
   "outputs": [],
   "source": [
    "from action import c3d"
   ]
  },
  {
   "cell_type": "code",
   "execution_count": 3,
   "metadata": {},
   "outputs": [
    {
     "name": "stdout",
     "output_type": "stream",
     "text": [
      "Help on package action.c3d in action:\n",
      "\n",
      "NAME\n",
      "    action.c3d\n",
      "\n",
      "PACKAGE CONTENTS\n",
      "    callbacks\n",
      "    models\n",
      "    train_utils\n",
      "    utils\n",
      "\n",
      "FILE\n",
      "    /home/akashdeepjassal/Documents/package/lib/python3.6/site-packages/action_recognition_keras-0.1-py3.6.egg/action/c3d/__init__.py\n",
      "\n",
      "\n"
     ]
    }
   ],
   "source": [
    "help(c3d)"
   ]
  },
  {
   "cell_type": "code",
   "execution_count": 4,
   "metadata": {},
   "outputs": [],
   "source": [
    "from action.c3d import utils"
   ]
  },
  {
   "cell_type": "code",
   "execution_count": 5,
   "metadata": {},
   "outputs": [],
   "source": [
    "# help(utils)\n",
    "utils.download('UCF-101')"
   ]
  },
  {
   "cell_type": "code",
   "execution_count": 6,
   "metadata": {},
   "outputs": [],
   "source": [
    "utils.unrar('UCF101.rar','dataset')\n",
    "utils.unzip('UCF101_Action_detection_splits.rar','dataset')"
   ]
  },
  {
   "cell_type": "code",
   "execution_count": null,
   "metadata": {},
   "outputs": [],
   "source": [
    "from action.c3d.models import c3d_model\n",
    "from keras.optimizers import SGD,Adam\n",
    "from keras.utils import np_utils\n",
    "# from schedules import onetenth_4_8_12\n",
    "import numpy as np\n",
    "import random\n",
    "import cv2\n",
    "import os\n",
    "import random\n",
    "import matplotlib\n",
    "matplotlib.use('AGG')\n",
    "import matplotlib.pyplot as plt\n",
    "from actions.c3d.train_utils import generator_train_batch, generator_val_batch, plot_history, save_history\n",
    "from actions.c3d.callbacks import Step\n",
    "from action.c3d.utils import vid2img, label2text\n",
    "\n",
    "def onetenth_4_8_12(lr):\n",
    "    steps = [4, 8,12]\n",
    "    lrs = [lr, lr/10, lr/100,lr/1000]\n",
    "    return Step(steps, lrs)\n",
    "    \n",
    "\n",
    "def main():\n",
    "    img_path = 'ucfimgs/'\n",
    "    train_file = 'train_list.txt'\n",
    "    test_file = 'test_list.txt'\n",
    "    label2text('action-recognition-keras/dataset/UCF-101/train_file.txt', 'action-recognition-keras/dataset/UCF-101/test_file.txt','dataset/UCF-101/video/')\n",
    "    f1 = open(train_file, 'r')\n",
    "    f2 = open(test_file, 'r')\n",
    "    lines = f1.readlines()\n",
    "    f1.close()\n",
    "    train_samples = len(lines)\n",
    "    lines = f2.readlines()\n",
    "    f2.close()\n",
    "    val_samples = len(lines)\n",
    "\n",
    "    num_classes = 101\n",
    "    batch_size = 16\n",
    "    epochs = 16\n",
    "\n",
    "    model = c3d_model()\n",
    "    lr = 0.005\n",
    "    sgd = SGD(lr=lr, momentum=0.9, nesterov=True)\n",
    "    model.compile(loss='categorical_crossentropy', optimizer=sgd, metrics=['accuracy'])\n",
    "    model.summary()\n",
    "    history = model.fit_generator(generator_train_batch(train_file, batch_size, num_classes,img_path),\n",
    "                                  steps_per_epoch=train_samples // batch_size,\n",
    "                                  epochs=epochs,\n",
    "                                  callbacks=[onetenth_4_8_12(lr)],\n",
    "                                  validation_data=generator_val_batch(test_file,\n",
    "                                        batch_size,num_classes,img_path),\n",
    "                                  validation_steps=val_samples // batch_size,\n",
    "                                  verbose=1)\n",
    "    if not os.path.exists('results/'):\n",
    "        os.mkdir('results/')\n",
    "    plot_history(history, 'results/')\n",
    "    save_history(history, 'results/')\n",
    "    model.save_weights('results/weights_c3d.h5')\n",
    "\n",
    "\n",
    "if __name__ == '__main__':\n",
    "    main()"
   ]
  }
 ],
 "metadata": {
  "kernelspec": {
   "display_name": "Package Env",
   "language": "python",
   "name": "package"
  },
  "language_info": {
   "codemirror_mode": {
    "name": "ipython",
    "version": 3
   },
   "file_extension": ".py",
   "mimetype": "text/x-python",
   "name": "python",
   "nbconvert_exporter": "python",
   "pygments_lexer": "ipython3",
   "version": "3.6.8"
  }
 },
 "nbformat": 4,
 "nbformat_minor": 2
}
